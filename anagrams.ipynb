{
  "nbformat": 4,
  "nbformat_minor": 0,
  "metadata": {
    "colab": {
      "name": "anagrams.ipynb",
      "provenance": [],
      "authorship_tag": "ABX9TyMj1aPqqDgl5N62Ckr9Rp57",
      "include_colab_link": true
    },
    "kernelspec": {
      "name": "python3",
      "display_name": "Python 3"
    }
  },
  "cells": [
    {
      "cell_type": "markdown",
      "metadata": {
        "id": "view-in-github",
        "colab_type": "text"
      },
      "source": [
        "<a href=\"https://colab.research.google.com/github/GoKuKo/WorkFromColab/blob/master/anagrams.ipynb\" target=\"_parent\"><img src=\"https://colab.research.google.com/assets/colab-badge.svg\" alt=\"Open In Colab\"/></a>"
      ]
    },
    {
      "cell_type": "code",
      "metadata": {
        "id": "2tDrUmUfe5IF",
        "colab_type": "code",
        "colab": {
          "base_uri": "https://localhost:8080/",
          "height": 51
        },
        "outputId": "2e9bf677-34b4-4747-fbac-a2413fb825e7"
      },
      "source": [
        "def test(a,b):\n",
        "  # Retuns true only when rearranged; Retuns false in all other cases including the string equality;\n",
        "  c= set(a+b)\n",
        "  if (a!=b and len(c)==len(b) and len(c)==len(a)) and len([i for i in c if i not in a or i not in b])== 0:\n",
        "      return True\n",
        "  else:\n",
        "    return False\n",
        "def test1(a,b):\n",
        "  c= list(a)\n",
        "  d= list(b)\n",
        "  return sorted(a)==sorted(b)\n",
        "\n",
        "print(test('abc', 'acb'), test('abca', 'aac'), test('string','strign'), test('asdg','dsg'), test('',''))\n",
        "print(test1('abc', 'acb'), test1('abca', 'aac'), test1('string','strign'), test1('asdg','dsg'), test1('',''))"
      ],
      "execution_count": 49,
      "outputs": [
        {
          "output_type": "stream",
          "text": [
            "True False True False False\n",
            "True False True False True\n"
          ],
          "name": "stdout"
        }
      ]
    }
  ]
}