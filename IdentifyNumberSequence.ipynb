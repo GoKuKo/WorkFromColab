{
  "nbformat": 4,
  "nbformat_minor": 0,
  "metadata": {
    "colab": {
      "name": "IdentifyNumberSequence.ipynb",
      "version": "0.3.2",
      "provenance": [],
      "include_colab_link": true
    },
    "kernelspec": {
      "name": "python3",
      "display_name": "Python 3"
    }
  },
  "cells": [
    {
      "cell_type": "markdown",
      "metadata": {
        "id": "view-in-github",
        "colab_type": "text"
      },
      "source": [
        "<a href=\"https://colab.research.google.com/github/devdon3/WorkFromColab/blob/master/IdentifyNumberSequence.ipynb\" target=\"_parent\"><img src=\"https://colab.research.google.com/assets/colab-badge.svg\" alt=\"Open In Colab\"/></a>"
      ]
    },
    {
      "cell_type": "code",
      "metadata": {
        "id": "ouiE-kZqnQ14",
        "colab_type": "code",
        "colab": {}
      },
      "source": [
        "import pandas as pd\n",
        "import re\n",
        "\n",
        "df= pd.DataFrame({'test':[\"1235fbu12435rdflk\", \"kdfn5678vufd\", \"34kings789\",\"21012\", \"jdbvgyu6549\"]})"
      ],
      "execution_count": 0,
      "outputs": []
    },
    {
      "cell_type": "code",
      "metadata": {
        "id": "Vm370Tc7oOBG",
        "colab_type": "code",
        "colab": {}
      },
      "source": [
        "df[\"new\"] = df.test.apply(lambda x: [j for i in re.findall(r'\\d+', x) for j in [i[a:b+1] for a in range(len(i)) for b in range(a,len(i))] if len(j)>2 and (j in \"109876543210\" or j in \"12345678910\")] )\n"
      ],
      "execution_count": 0,
      "outputs": []
    },
    {
      "cell_type": "code",
      "metadata": {
        "id": "7oPjHswxrt3k",
        "colab_type": "code",
        "colab": {
          "base_uri": "https://localhost:8080/",
          "height": 119
        },
        "outputId": "6bc2248f-088a-45fa-ef80-5d0dcc8958e2"
      },
      "source": [
        "df.new"
      ],
      "execution_count": 19,
      "outputs": [
        {
          "output_type": "execute_result",
          "data": {
            "text/plain": [
              "0               [123]\n",
              "1    [567, 5678, 678]\n",
              "2               [789]\n",
              "3               [210]\n",
              "4               [654]\n",
              "Name: new, dtype: object"
            ]
          },
          "metadata": {
            "tags": []
          },
          "execution_count": 19
        }
      ]
    },
    {
      "cell_type": "code",
      "metadata": {
        "id": "_JLJwIbOr7tN",
        "colab_type": "code",
        "colab": {}
      },
      "source": [
        ""
      ],
      "execution_count": 0,
      "outputs": []
    }
  ]
}