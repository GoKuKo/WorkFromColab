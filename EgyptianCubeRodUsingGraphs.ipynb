{
  "nbformat": 4,
  "nbformat_minor": 0,
  "metadata": {
    "kernelspec": {
      "display_name": "Python 3",
      "language": "python",
      "name": "python3"
    },
    "language_info": {
      "codemirror_mode": {
        "name": "ipython",
        "version": 3
      },
      "file_extension": ".py",
      "mimetype": "text/x-python",
      "name": "python",
      "nbconvert_exporter": "python",
      "pygments_lexer": "ipython3",
      "version": "3.7.4"
    },
    "colab": {
      "name": "EgyptianCubeRodUsingGraphs.ipynb",
      "provenance": [],
      "collapsed_sections": [],
      "include_colab_link": true
    }
  },
  "cells": [
    {
      "cell_type": "markdown",
      "metadata": {
        "id": "view-in-github",
        "colab_type": "text"
      },
      "source": [
        "<a href=\"https://colab.research.google.com/github/GoKuKo/WorkFromColab/blob/master/EgyptianCubeRodUsingGraphs.ipynb\" target=\"_parent\"><img src=\"https://colab.research.google.com/assets/colab-badge.svg\" alt=\"Open In Colab\"/></a>"
      ]
    },
    {
      "cell_type": "code",
      "metadata": {
        "id": "7AO0FfhDmN53",
        "colab_type": "code",
        "colab": {},
        "outputId": "f80f0560-8506-4bd7-a04b-74f8b4c4b61a"
      },
      "source": [
        "import pandas as pd\n",
        "lines = []\n",
        "while True:\n",
        "    line = input()\n",
        "    if line:\n",
        "        lines.append(line)\n",
        "    else:\n",
        "        break\n",
        "a=pd.DataFrame(lines)\n",
        "a[[0,1]] = a[0].str.split(\" \",expand=True,)\n"
      ],
      "execution_count": 0,
      "outputs": [
        {
          "output_type": "stream",
          "text": [
            "1 2\n",
            "2 3\n",
            "1 3\n",
            "\n"
          ],
          "name": "stdout"
        }
      ]
    },
    {
      "cell_type": "code",
      "metadata": {
        "colab_type": "code",
        "id": "jLkUmyiADWl6",
        "colab": {}
      },
      "source": [
        "out=0"
      ],
      "execution_count": 0,
      "outputs": []
    },
    {
      "cell_type": "code",
      "metadata": {
        "colab_type": "code",
        "id": "AwEimh5kDVQw",
        "colab": {}
      },
      "source": [
        "def rod(a):\n",
        "    for i in range(a.shape[0]):\n",
        "        x,y=a.iloc[i,]\n",
        "        b=a.drop(a.index[i])\n",
        "        bool1 = b.isin([x])\n",
        "        bool2 = b.isin([y])\n",
        "        if sum(bool1)>0 and sum(bool2)>0:\n",
        "            global out\n",
        "            out=out+1\n",
        "            a=a.drop(a.index[i])\n",
        "            rod(a)\n",
        "            return out"
      ],
      "execution_count": 0,
      "outputs": []
    },
    {
      "cell_type": "code",
      "metadata": {
        "id": "ufE5ZWYLmN7V",
        "colab_type": "code",
        "colab": {},
        "outputId": "9d270f15-4ea7-497a-e8ea-2cec3d13754f"
      },
      "source": [
        "rod(a)"
      ],
      "execution_count": 0,
      "outputs": [
        {
          "output_type": "execute_result",
          "data": {
            "text/plain": [
              "3"
            ]
          },
          "metadata": {
            "tags": []
          },
          "execution_count": 17
        }
      ]
    },
    {
      "cell_type": "code",
      "metadata": {
        "id": "zp75oD2SmN7u",
        "colab_type": "code",
        "colab": {},
        "outputId": "25a1a871-7266-4a93-a87b-c7944809115b"
      },
      "source": [
        "out"
      ],
      "execution_count": 0,
      "outputs": [
        {
          "output_type": "execute_result",
          "data": {
            "text/plain": [
              "3"
            ]
          },
          "metadata": {
            "tags": []
          },
          "execution_count": 18
        }
      ]
    },
    {
      "cell_type": "code",
      "metadata": {
        "id": "6p9czIVqmN8I",
        "colab_type": "code",
        "colab": {
          "base_uri": "https://localhost:8080/",
          "height": 655
        },
        "outputId": "a2b40ef5-0eb1-4e25-c421-e85b494087c7"
      },
      "source": [
        "import networkx as nx\n",
        "import matplotlib.pyplot as plt\n",
        "\n",
        "def maxRods(k) :\n",
        "    singleRodSystem = list(set(tuple(sorted(i)) for i in k))\n",
        "    g = nx.Graph()\n",
        "    # add nodes inorder to see the name of each node.\n",
        "    g.add_edges_from(singleRodSystem)\n",
        "    dg = nx.DiGraph(g)\n",
        "    nx.draw(dg)\n",
        "    plt.show()\n",
        "    no_of_cycles = (len(list(nx.simple_cycles(dg)))-len(singleRodSystem))/2-1\n",
        "    double_rods = (len(k)- len(singleRodSystem))\n",
        "    return no_of_cycles + double_rods if no_of_cycles > 0 else double_rods\n",
        "    \n",
        "print(maxRods([[42,35],[20,35],[35,20],[42,10],[10,42],[10,20],[20,45], [20,95],[95,37],[73,95],[35,73]]))\n",
        "print(maxRods([[42,35],[20,35],[35,20],[42,10]]))\n"
      ],
      "execution_count": 67,
      "outputs": [
        {
          "output_type": "display_data",
          "data": {
            "image/png": "[encoded data removed]",
            "text/plain": [
              "<Figure size 432x288 with 1 Axes>"
            ]
          },
          "metadata": {
            "tags": []
          }
        },
        {
          "output_type": "stream",
          "text": [
            "4.0\n"
          ],
          "name": "stdout"
        },
        {
          "output_type": "display_data",
          "data": {
            "image/png": "[encoded data removed]",
            "text/plain": [
              "<Figure size 432x288 with 1 Axes>"
            ]
          },
          "metadata": {
            "tags": []
          }
        },
        {
          "output_type": "stream",
          "text": [
            "1\n"
          ],
          "name": "stdout"
        }
      ]
    },
    {
      "cell_type": "code",
      "metadata": {
        "id": "XdFpeP9h3u8_",
        "colab_type": "code",
        "colab": {}
      },
      "source": [
        ""
      ],
      "execution_count": 0,
      "outputs": []
    }
  ]
}