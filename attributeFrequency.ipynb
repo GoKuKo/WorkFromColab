{
  "nbformat": 4,
  "nbformat_minor": 0,
  "metadata": {
    "colab": {
      "name": "attributeFrequency.ipynb",
      "provenance": [],
      "collapsed_sections": [],
      "include_colab_link": true
    },
    "kernelspec": {
      "name": "python3",
      "display_name": "Python 3"
    }
  },
  "cells": [
    {
      "cell_type": "markdown",
      "metadata": {
        "id": "view-in-github",
        "colab_type": "text"
      },
      "source": [
        "<a href=\"https://colab.research.google.com/github/devdon3/WorkFromColab/blob/master/attributeFrequency.ipynb\" target=\"_parent\"><img src=\"https://colab.research.google.com/assets/colab-badge.svg\" alt=\"Open In Colab\"/></a>"
      ]
    },
    {
      "cell_type": "code",
      "metadata": {
        "id": "FppclGiwQVNn",
        "colab_type": "code",
        "outputId": "1975079b-949e-4c1a-904d-f9a8e38cb7ca",
        "colab": {
          "base_uri": "https://localhost:8080/",
          "height": 419
        }
      },
      "source": [
        "\n",
        "import csv\n",
        "import pandas as pd\n",
        "import itertools\n",
        "import math\n",
        "def attributesSet(numberOfAttributes, supportThreshold):\n",
        "    \n",
        "    names = ['age','sex','education','country','race','status','workclass','occupation','hours-per-week','income','capital-gain','capital-loss']\n",
        "    combinations = []\n",
        "    final = []\n",
        "    for comb in itertools.combinations(names,numberOfAttributes):\n",
        "        combinations.append(list(comb))\n",
        "    c = pd.read_csv(\"test.csv\")\n",
        "    c.columns= names\n",
        "    total = len(c.index)\n",
        "    required = supportThreshold*total\n",
        "    for i in combinations:\n",
        "        g = c.groupby(i).size().sort_values(ascending=False)\n",
        "        groups = g[g>required].index\n",
        "        satisfied = list(groups)\n",
        "        for j in satisfied:\n",
        "          if numberOfAttributes>1:\n",
        "            final.append(','.join(j))\n",
        "          else:\n",
        "            final.append(j)\n",
        "\n",
        "    #return final\n",
        "attributesSet(1, 0.1)"
      ],
      "execution_count": 0,
      "outputs": [
        {
          "output_type": "stream",
          "text": [
            "Index(['age=Middle-aged', 'age=Senior'], dtype='object', name='age')\n",
            "Index(['sex=Male', 'sex=Female'], dtype='object', name='sex')\n",
            "Index(['education=Bachelors', 'education=Masters', 'education=HS-grad',\n",
            "       'education=9th', 'education=11th'],\n",
            "      dtype='object', name='education')\n",
            "Index(['native-country=United-States', 'native-country=Jamaica',\n",
            "       'native-country=Cuba'],\n",
            "      dtype='object', name='country')\n",
            "Index(['race=White', 'race=Black'], dtype='object', name='race')\n",
            "Index(['marital-status=Married-civ-spouse', 'marital-status=Never-married',\n",
            "       'marital-status=Married-spouse-absent', 'marital-status=Divorced'],\n",
            "      dtype='object', name='status')\n",
            "Index(['workclass=Private', 'workclass=Self-emp-not-inc'], dtype='object', name='workclass')\n",
            "Index(['occupation=Exec-managerial', 'occupation=Prof-specialty',\n",
            "       'occupation=Handlers-cleaners', 'occupation=Other-service'],\n",
            "      dtype='object', name='occupation')\n",
            "Index(['hours-per-week=Full-time', 'hours-per-week=Part-time',\n",
            "       'hours-per-week=Over-time'],\n",
            "      dtype='object', name='hours-per-week')\n",
            "Index(['income=Small', 'income=Large'], dtype='object', name='income')\n",
            "Index(['capital-gain=None', 'capital-gain=Low', 'capital-gain=High'], dtype='object', name='capital-gain')\n",
            "Index(['capital-loss=None'], dtype='object', name='capital-loss')\n"
          ],
          "name": "stdout"
        }
      ]
    },
    {
      "cell_type": "code",
      "metadata": {
        "id": "NuB8peQI_MzM",
        "colab_type": "code",
        "colab": {}
      },
      "source": [
        ""
      ],
      "execution_count": 0,
      "outputs": []
    }
  ]
}