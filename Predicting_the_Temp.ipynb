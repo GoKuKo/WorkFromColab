{
  "nbformat": 4,
  "nbformat_minor": 0,
  "metadata": {
    "colab": {
      "name": "Predicting_the_Temp.ipynb",
      "provenance": [],
      "include_colab_link": true
    },
    "kernelspec": {
      "name": "python3",
      "display_name": "Python 3"
    }
  },
  "cells": [
    {
      "cell_type": "markdown",
      "metadata": {
        "id": "view-in-github",
        "colab_type": "text"
      },
      "source": [
        "<a href=\"https://colab.research.google.com/github/GoKuKo/WorkFromColab/blob/master/Predicting_the_Temp.ipynb\" target=\"_parent\"><img src=\"https://colab.research.google.com/assets/colab-badge.svg\" alt=\"Open In Colab\"/></a>"
      ]
    },
    {
      "cell_type": "code",
      "metadata": {
        "id": "Mra9Iqq1zC81",
        "colab_type": "code",
        "colab": {}
      },
      "source": [
        "import pandas as pd\n",
        "import numpy as np\n",
        "from sklearn.linear_model import Ridge\n",
        "\n",
        "\n",
        "def test(startDate, endDate, temperature, n):\n",
        "    df=pd.DataFrame(index=pd.date_range(start=startDate, periods=len(temperature)+24*n, freq='H'), columns=['TS_INPUT'])\n",
        "\n",
        "    for i in range(len(temperature)):\n",
        "        df.iloc[i] = temperature[i]\n",
        "\n",
        "#adding extra features since it depends on the seasons(months and the time of the days)\n",
        "    df['month']=df.index.month\n",
        "    df['dayofmonth']=df.index.day\n",
        "    df['hourofDay'] =df.index.hour\n",
        "\n",
        "#since current temp depends on the previous temp and filling nas with 0 for now\n",
        "    for i in range(len(temperature)):\n",
        "        df['INPUT_PREV'+str(i)]=df.TS_INPUT.shift(i+1).fillna(0)\n",
        "\n",
        "#creating the feature set and target variable\n",
        "    X = df.iloc[:-(24*n),1:]\n",
        "    y = df.iloc[:-(24*n),0]\n",
        "\n",
        "#initializing the model\n",
        "    reg=Ridge()\n",
        "    for i in range(24*n):\n",
        "        test = df.iloc[-(24*n)+i,1:]\n",
        "    \n",
        "#fitting the model and predicting\n",
        "    reg.fit(X,y)\n",
        "    preds=reg.predict(test.values.reshape(1, -1))\n",
        "\n",
        "    preds=df.iloc[-(24*n):,0] \n",
        "    return preds"
      ],
      "execution_count": 0,
      "outputs": []
    }
  ]
}