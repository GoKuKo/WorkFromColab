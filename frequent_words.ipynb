{
  "nbformat": 4,
  "nbformat_minor": 0,
  "metadata": {
    "colab": {
      "name": "frequent_words.ipynb",
      "version": "0.3.2",
      "provenance": []
    },
    "kernelspec": {
      "name": "python3",
      "display_name": "Python 3"
    }
  },
  "cells": [
    {
      "cell_type": "code",
      "metadata": {
        "id": "-_chvcz3CM39",
        "colab_type": "code",
        "colab": {}
      },
      "source": [
        "import collections\n",
        "import pandas as pd\n",
        "df=pd.read_csv('chk.csv')"
      ],
      "execution_count": 0,
      "outputs": []
    },
    {
      "cell_type": "code",
      "metadata": {
        "id": "NG7BxSeXCc3X",
        "colab_type": "code",
        "outputId": "a577ae75-3123-4c27-878b-9a926172ed9d",
        "colab": {
          "base_uri": "https://localhost:8080/",
          "height": 204
        }
      },
      "source": [
        "df['B']=df['A'].apply(lambda x: x.split())\n",
        "lis=[ y for x in df['B'] for y in x]\n",
        "sorted_dic = collections.OrderedDict(sorted(Counter(lis).items(), key=lambda kv: (-kv[1], kv[0])))\n",
        "sorted_dic"
      ],
      "execution_count": 0,
      "outputs": [
        {
          "output_type": "execute_result",
          "data": {
            "text/plain": [
              "OrderedDict([('hi', 4),\n",
              "             ('are', 2),\n",
              "             ('you', 2),\n",
              "             ('get', 1),\n",
              "             ('god', 1),\n",
              "             ('hatsoff', 1),\n",
              "             ('how', 1),\n",
              "             ('lost', 1),\n",
              "             ('my', 1),\n",
              "             ('oh', 1),\n",
              "             ('why', 1)])"
            ]
          },
          "metadata": {
            "tags": []
          },
          "execution_count": 18
        }
      ]
    },
    {
      "cell_type": "code",
      "metadata": {
        "id": "MTlAbcO4EXER",
        "colab_type": "code",
        "colab": {}
      },
      "source": [
        "df[\"C\"] = df['B'].apply(lambda x : [z for z in list(sorted_dic.keys()) if z in x][0:3])"
      ],
      "execution_count": 0,
      "outputs": []
    },
    {
      "cell_type": "code",
      "metadata": {
        "id": "4rqGBCtwGZqK",
        "colab_type": "code",
        "outputId": "eef27951-e7a5-4d63-fe11-27e79d00765c",
        "colab": {
          "base_uri": "https://localhost:8080/",
          "height": 204
        }
      },
      "source": [
        "df"
      ],
      "execution_count": 0,
      "outputs": [
        {
          "output_type": "execute_result",
          "data": {
            "text/html": [
              "<div>\n",
              "<style scoped>\n",
              "    .dataframe tbody tr th:only-of-type {\n",
              "        vertical-align: middle;\n",
              "    }\n",
              "\n",
              "    .dataframe tbody tr th {\n",
              "        vertical-align: top;\n",
              "    }\n",
              "\n",
              "    .dataframe thead th {\n",
              "        text-align: right;\n",
              "    }\n",
              "</style>\n",
              "<table border=\"1\" class=\"dataframe\">\n",
              "  <thead>\n",
              "    <tr style=\"text-align: right;\">\n",
              "      <th></th>\n",
              "      <th>A</th>\n",
              "      <th>B</th>\n",
              "      <th>C</th>\n",
              "    </tr>\n",
              "  </thead>\n",
              "  <tbody>\n",
              "    <tr>\n",
              "      <th>0</th>\n",
              "      <td>hi how are you</td>\n",
              "      <td>[hi, how, are, you]</td>\n",
              "      <td>[hi, are, you]</td>\n",
              "    </tr>\n",
              "    <tr>\n",
              "      <th>1</th>\n",
              "      <td>hi why are you</td>\n",
              "      <td>[hi, why, are, you]</td>\n",
              "      <td>[hi, are, you]</td>\n",
              "    </tr>\n",
              "    <tr>\n",
              "      <th>2</th>\n",
              "      <td>hi get lost</td>\n",
              "      <td>[hi, get, lost]</td>\n",
              "      <td>[hi, get, lost]</td>\n",
              "    </tr>\n",
              "    <tr>\n",
              "      <th>3</th>\n",
              "      <td>hi hatsoff</td>\n",
              "      <td>[hi, hatsoff]</td>\n",
              "      <td>[hi, hatsoff]</td>\n",
              "    </tr>\n",
              "    <tr>\n",
              "      <th>4</th>\n",
              "      <td>oh my god</td>\n",
              "      <td>[oh, my, god]</td>\n",
              "      <td>[god, my, oh]</td>\n",
              "    </tr>\n",
              "  </tbody>\n",
              "</table>\n",
              "</div>"
            ],
            "text/plain": [
              "                A                    B                C\n",
              "0  hi how are you  [hi, how, are, you]   [hi, are, you]\n",
              "1  hi why are you  [hi, why, are, you]   [hi, are, you]\n",
              "2     hi get lost      [hi, get, lost]  [hi, get, lost]\n",
              "3      hi hatsoff        [hi, hatsoff]    [hi, hatsoff]\n",
              "4       oh my god        [oh, my, god]    [god, my, oh]"
            ]
          },
          "metadata": {
            "tags": []
          },
          "execution_count": 22
        }
      ]
    }
  ]
}